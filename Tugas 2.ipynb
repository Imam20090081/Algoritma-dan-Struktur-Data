{
 "cells": [
  {
   "cell_type": "code",
   "execution_count": 8,
   "metadata": {},
   "outputs": [
    {
     "name": "stdout",
     "output_type": "stream",
     "text": [
      "Saya suka programing\n",
      "Saya suka programing\n",
      "Saya suka programing\n",
      "Saya suka programing\n",
      "Saya suka programing\n"
     ]
    }
   ],
   "source": [
    "#Nama : Imam Rosadi\n",
    "print (\"Saya suka programing\")\n",
    "print (\"Saya suka programing\")\n",
    "print (\"Saya suka programing\")\n",
    "print (\"Saya suka programing\")\n",
    "print (\"Saya suka programing\")"
   ]
  },
  {
   "cell_type": "code",
   "execution_count": 10,
   "metadata": {},
   "outputs": [
    {
     "name": "stdout",
     "output_type": "stream",
     "text": [
      "615.44\n"
     ]
    }
   ],
   "source": [
    "#Nama : Imam Rosadi\n",
    "r=14\n",
    "phi=3.14\n",
    "luas=phi*r*r\n",
    "print (luas)"
   ]
  },
  {
   "cell_type": "code",
   "execution_count": 11,
   "metadata": {},
   "outputs": [
    {
     "name": "stdout",
     "output_type": "stream",
     "text": [
      "Saya Imam Rosadi, saya membuat program menghitung balok : 350\n"
     ]
    }
   ],
   "source": [
    "#Nama : Imam Rosadi\n",
    "#Menghitung Volume Balok\n",
    "p=5\n",
    "l=7\n",
    "t=10\n",
    "v=p*l*t\n",
    "print (\"Saya Imam Rosadi, saya membuat program menghitung balok :\", v)"
   ]
  },
  {
   "cell_type": "code",
   "execution_count": 15,
   "metadata": {},
   "outputs": [
    {
     "name": "stdout",
     "output_type": "stream",
     "text": [
      "Saya Imam Rosadi, saya membuat program menghitung balok :\n",
      "panjang = 5\n",
      "lebar = 7\n",
      "tinggi = 10\n",
      "sehingga volume balok= 350\n"
     ]
    }
   ],
   "source": [
    "#Nama : Imam Rosadi\n",
    "#Menghitung Volume Balok\n",
    "p=5\n",
    "l=7\n",
    "t=10\n",
    "v=p*l*t\n",
    "\n",
    "print (\"Saya Imam Rosadi, saya membuat program menghitung balok :\")\n",
    "print (\"panjang =\", p)\n",
    "print (\"lebar =\", l)\n",
    "print (\"tinggi =\", t)\n",
    "print (\"sehingga volume balok=\", v)"
   ]
  },
  {
   "cell_type": "code",
   "execution_count": null,
   "metadata": {},
   "outputs": [],
   "source": []
  }
 ],
 "metadata": {
  "kernelspec": {
   "display_name": "Python 3",
   "language": "python",
   "name": "python3"
  },
  "language_info": {
   "codemirror_mode": {
    "name": "ipython",
    "version": 3
   },
   "file_extension": ".py",
   "mimetype": "text/x-python",
   "name": "python",
   "nbconvert_exporter": "python",
   "pygments_lexer": "ipython3",
   "version": "3.8.3"
  }
 },
 "nbformat": 4,
 "nbformat_minor": 4
}
