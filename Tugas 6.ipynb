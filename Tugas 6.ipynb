{
 "cells": [
  {
   "cell_type": "code",
   "execution_count": 19,
   "metadata": {},
   "outputs": [
    {
     "name": "stdout",
     "output_type": "stream",
     "text": [
      "Masukan Nilai : 67\n",
      "Remidi\n"
     ]
    }
   ],
   "source": [
    "#Nama : Imam Rosadi\n",
    "#NIM : 20090081\n",
    "\n",
    "#Soal 1\n",
    "remidi=int(input(\"Masukan Nilai : \")) #meminta input dari user\n",
    "if remidi <70:\n",
    "    print(\"Remidi\")"
   ]
  },
  {
   "cell_type": "code",
   "execution_count": 21,
   "metadata": {},
   "outputs": [
    {
     "name": "stdout",
     "output_type": "stream",
     "text": [
      "=======================\n",
      "Program Luas Lingkaran\n",
      "=======================\n",
      "Masukan Jari-Jari : 13\n",
      "Luas Lingkaran : 530.66\n",
      "Lingkaran : Besar\n"
     ]
    }
   ],
   "source": [
    "#Soal 2\n",
    "\n",
    "print('=======================')\n",
    "print (\"Program Luas Lingkaran\")\n",
    "print('=======================')\n",
    "\n",
    "#Rumus luas Lingkaran\n",
    "jari=int(input(\"Masukan Jari-Jari : \")) #meminta input dari user\n",
    "luas=3.14*jari*jari \n",
    "print(\"Luas Lingkaran :\", luas)\n",
    "if luas >= 314:\n",
    "    print(\"Lingkaran : Besar\")\n",
    "else :\n",
    "    print(\"Lingkaran : Kecil\")"
   ]
  },
  {
   "cell_type": "code",
   "execution_count": 22,
   "metadata": {},
   "outputs": [
    {
     "name": "stdout",
     "output_type": "stream",
     "text": [
      "=============================\n",
      "Program Bangun Ruang\n",
      "=============================\n",
      "1. Volume Balok\n",
      "2. Volume Kubus\n",
      "=============================\n",
      "Silahkan pilih 1 atau 2\n",
      "Masukan pilihan : 1\n",
      "\n",
      "\n",
      "=============================\n",
      "Program Volume Balok\n",
      "=============================\n",
      "Masukan Panjang : 12\n",
      "Masukan Lebar : 8\n",
      "Masukan Tinggi : 5\n",
      "Volume Balok = 480\n"
     ]
    }
   ],
   "source": [
    "#Soal 3\n",
    "\n",
    "#membuat fungsi\n",
    "def vol_balok (): \n",
    "    panjang=int(input(\"Masukan Panjang : \")) #meminta input dari user\n",
    "    lebar=int(input(\"Masukan Lebar : \"))\n",
    "    tinggi=int(input(\"Masukan Tinggi : \"))\n",
    "    #Rumus volume balok pxlxt\n",
    "    vol1=panjang*lebar*tinggi \n",
    "    print(\"Volume Balok =\", vol1) #mengakses variabel\n",
    "#membuat fungsi\n",
    "def vol_kubus (): \n",
    "    sisi=int(input(\"Masukan Sisi : \")) #meminta input dari user\n",
    "    #Rumus volume balok sisi x sisi x sisi\n",
    "    vol2=sisi*sisi*sisi \n",
    "    print(\"Volume Kubus = \", vol2) #mengakses variabel\n",
    "print(\"=============================\")\n",
    "print(\"Program Bangun Ruang\")\n",
    "print(\"=============================\")\n",
    "print(\"1. Volume Balok\")\n",
    "print(\"2. Volume Kubus\")\n",
    "print(\"=============================\")\n",
    "print(\"Silahkan pilih 1 atau 2\") \n",
    "program=int(input(\"Masukan pilihan : \"))\n",
    "print(\"\")   \n",
    "print(\"\")     \n",
    "if program==1:\n",
    "    print(\"=============================\")\n",
    "    print(\"Program Volume Balok\")\n",
    "    print(\"=============================\")\n",
    "    vol_balok () #pemanggilan fungsi\n",
    "elif program==2:\n",
    "    print(\"=============================\")\n",
    "    print(\"Program Volume Kubus\")\n",
    "    print(\"=============================\")\n",
    "    vol_kubus () #pemanggilan fungsi\n",
    "else :\n",
    "    print(\"==========================\")\n",
    "    print(\"||Program Tidak Tersedia||\")\n",
    "    print(\"==========================\")"
   ]
  },
  {
   "cell_type": "markdown",
   "metadata": {},
   "source": []
  }
 ],
 "metadata": {
  "kernelspec": {
   "display_name": "Python 3",
   "language": "python",
   "name": "python3"
  },
  "language_info": {
   "codemirror_mode": {
    "name": "ipython",
    "version": 3
   },
   "file_extension": ".py",
   "mimetype": "text/x-python",
   "name": "python",
   "nbconvert_exporter": "python",
   "pygments_lexer": "ipython3",
   "version": "3.8.3"
  }
 },
 "nbformat": 4,
 "nbformat_minor": 4
}
