{
 "cells": [
  {
   "cell_type": "code",
   "execution_count": 66,
   "metadata": {},
   "outputs": [
    {
     "name": "stdout",
     "output_type": "stream",
     "text": [
      "60\n",
      "54\n",
      "58\n",
      "Berat badan saya adalah 54\n"
     ]
    },
    {
     "ename": "NameError",
     "evalue": "name 'c' is not defined",
     "output_type": "error",
     "traceback": [
      "\u001b[1;31m---------------------------------------------------------------------------\u001b[0m",
      "\u001b[1;31mNameError\u001b[0m                                 Traceback (most recent call last)",
      "\u001b[1;32m<ipython-input-66-e31a08813cbf>\u001b[0m in \u001b[0;36m<module>\u001b[1;34m\u001b[0m\n\u001b[0;32m     14\u001b[0m \u001b[0mprint\u001b[0m \u001b[1;33m(\u001b[0m\u001b[0mbb\u001b[0m\u001b[1;33m,\u001b[0m \u001b[1;34m\"adalah\"\u001b[0m\u001b[1;33m,\u001b[0m \u001b[0mb\u001b[0m\u001b[1;33m)\u001b[0m\u001b[1;33m\u001b[0m\u001b[1;33m\u001b[0m\u001b[0m\n\u001b[0;32m     15\u001b[0m \u001b[1;32mdel\u001b[0m\u001b[1;33m(\u001b[0m\u001b[0mc\u001b[0m\u001b[1;33m)\u001b[0m\u001b[1;33m\u001b[0m\u001b[1;33m\u001b[0m\u001b[0m\n\u001b[1;32m---> 16\u001b[1;33m \u001b[0mprint\u001b[0m\u001b[1;33m(\u001b[0m\u001b[0mc\u001b[0m\u001b[1;33m)\u001b[0m\u001b[1;33m\u001b[0m\u001b[1;33m\u001b[0m\u001b[0m\n\u001b[0m",
      "\u001b[1;31mNameError\u001b[0m: name 'c' is not defined"
     ]
    }
   ],
   "source": [
    "#Tugas 3\n",
    "#Nama : Imam Rosadi\n",
    "#Nim : 20090081\n",
    "\n",
    "#soal 1\n",
    "a=60\n",
    "b=54\n",
    "c=58\n",
    "bb =\"Berat badan saya\"\n",
    "\n",
    "print (a)\n",
    "print (b)\n",
    "print (c)\n",
    "print (bb, \"adalah\", b)\n",
    "del(c)\n",
    "print(c)"
   ]
  },
  {
   "cell_type": "code",
   "execution_count": 63,
   "metadata": {},
   "outputs": [
    {
     "name": "stdout",
     "output_type": "stream",
     "text": [
      "Jari-jari = 50 cm\n",
      "phi = 3.14 cm\n",
      "Keliling Lingkaran = 314.0 cm\n"
     ]
    }
   ],
   "source": [
    "#soal 2\n",
    "r=50\n",
    "phi=3.14\n",
    "keliling=2*phi*r\n",
    "c=\"cm\"\n",
    "\n",
    "hasil=\"Keliling Lingkaran =\"\n",
    "print (\"Jari =\",int(r),c )\n",
    "print (\"phi =\",float(phi),c)\n",
    "print(hasil, keliling,c)"
   ]
  },
  {
   "cell_type": "code",
   "execution_count": 29,
   "metadata": {},
   "outputs": [
    {
     "name": "stdout",
     "output_type": "stream",
     "text": [
      "Type = True\n"
     ]
    }
   ],
   "source": [
    "#soal 3\n",
    "#a\n",
    "perbandingan=(35>24)\n",
    "print(\"Type =\",perbandingan)"
   ]
  },
  {
   "cell_type": "code",
   "execution_count": 28,
   "metadata": {},
   "outputs": [
    {
     "name": "stdout",
     "output_type": "stream",
     "text": [
      "Type = False\n"
     ]
    }
   ],
   "source": [
    "#b\n",
    "perbandingan=(33>44)\n",
    "print(\"Type =\",perbandingan)"
   ]
  },
  {
   "cell_type": "code",
   "execution_count": 56,
   "metadata": {},
   "outputs": [
    {
     "name": "stdout",
     "output_type": "stream",
     "text": [
      "Konversi Type Data\n",
      "Float = 64.0\n",
      "Binner = 0b1000000\n",
      "Hexadecimal = 0x40\n"
     ]
    }
   ],
   "source": [
    "#soal 4\n",
    "a=64 #Variabel\n",
    "var=\"Konversi Type Data\"\n",
    "print(var)\n",
    "print(\"Float =\",float(a)) #type float\n",
    "print(\"Binner =\",bin(a)) #type biner\n",
    "print(\"Hexadecimal =\",hex(a)) #type hexadesiamal #memanggil var hex"
   ]
  },
  {
   "cell_type": "code",
   "execution_count": 62,
   "metadata": {},
   "outputs": [
    {
     "name": "stdout",
     "output_type": "stream",
     "text": [
      "Biodata Mahasiswa\n",
      "Nama : Arden Khaparta\n",
      "NIM : 092828262\n",
      "\n",
      "Dia mahasiswa semester 5 yang berprestasi, karena memiliki IPK sebesar 3.87\n"
     ]
    },
    {
     "ename": "NameError",
     "evalue": "name 'ipk' is not defined",
     "output_type": "error",
     "traceback": [
      "\u001b[1;31m---------------------------------------------------------------------------\u001b[0m",
      "\u001b[1;31mNameError\u001b[0m                                 Traceback (most recent call last)",
      "\u001b[1;32m<ipython-input-62-45e314253541>\u001b[0m in \u001b[0;36m<module>\u001b[1;34m\u001b[0m\n\u001b[0;32m     13\u001b[0m \u001b[1;33m\u001b[0m\u001b[0m\n\u001b[0;32m     14\u001b[0m \u001b[1;32mdel\u001b[0m\u001b[1;33m(\u001b[0m\u001b[0mipk\u001b[0m\u001b[1;33m)\u001b[0m\u001b[1;33m\u001b[0m\u001b[1;33m\u001b[0m\u001b[0m\n\u001b[1;32m---> 15\u001b[1;33m \u001b[0mprint\u001b[0m\u001b[1;33m(\u001b[0m\u001b[0mipk\u001b[0m\u001b[1;33m)\u001b[0m\u001b[1;33m\u001b[0m\u001b[1;33m\u001b[0m\u001b[0m\n\u001b[0m\u001b[0;32m     16\u001b[0m \u001b[1;33m\u001b[0m\u001b[0m\n\u001b[0;32m     17\u001b[0m \u001b[1;33m\u001b[0m\u001b[0m\n",
      "\u001b[1;31mNameError\u001b[0m: name 'ipk' is not defined"
     ]
    }
   ],
   "source": [
    "#soal 5\n",
    "judul=\"Biodata Mahasiswa\"\n",
    "nama=\"Nama : Arden Khaparta\"\n",
    "nim=\"\"\"NIM : 092828262\n",
    "\"\"\"\n",
    "smt=5\n",
    "ipk=3.87\n",
    "\n",
    "print(judul)\n",
    "print(str(nama))\n",
    "print(str(nim))\n",
    "print(\"Dia mahasiswa semester\", (int(smt)), \"yang berprestasi, karena memiliki IPK sebesar\",(float(ipk)))\n",
    "\n",
    "del(ipk)\n",
    "print(ipk)\n",
    "\n",
    "\n"
   ]
  },
  {
   "cell_type": "code",
   "execution_count": null,
   "metadata": {},
   "outputs": [],
   "source": []
  }
 ],
 "metadata": {
  "kernelspec": {
   "display_name": "Python 3",
   "language": "python",
   "name": "python3"
  },
  "language_info": {
   "codemirror_mode": {
    "name": "ipython",
    "version": 3
   },
   "file_extension": ".py",
   "mimetype": "text/x-python",
   "name": "python",
   "nbconvert_exporter": "python",
   "pygments_lexer": "ipython3",
   "version": "3.8.3"
  }
 },
 "nbformat": 4,
 "nbformat_minor": 4
}
