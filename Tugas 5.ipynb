{
 "cells": [
  {
   "cell_type": "code",
   "execution_count": 1,
   "metadata": {},
   "outputs": [
    {
     "name": "stdout",
     "output_type": "stream",
     "text": [
      "I like programing\n",
      "Because I proud to make something new\n"
     ]
    }
   ],
   "source": [
    "#Nama :Imam Rosadi\n",
    "#NIM : 20090081\n",
    "\n",
    "#Soal 1\n",
    "def perkenalan():\n",
    "    print(\"I like Programing\")\n",
    "    print(\"Because I proud to make something new\")\n",
    "perkenalan()"
   ]
  },
  {
   "cell_type": "code",
   "execution_count": 50,
   "metadata": {},
   "outputs": [
    {
     "name": "stdout",
     "output_type": "stream",
     "text": [
      "==============================\n",
      "Program Luas Persegi Panjang\n",
      "==============================\n",
      "Masukan Nama :Imam Rosadi\n",
      "Nama : Imam Rosadi\n",
      "Luas persegi panjang adalah : 50 cm\n",
      "Luas persegi panjang adalah : 5000 cm\n"
     ]
    }
   ],
   "source": [
    "#Soal 2\n",
    "def perkenalan ():\n",
    "    nama=input(\"Masukan Nama :\")\n",
    "    print(\"Nama :\", nama);\n",
    "print('==============================')\n",
    "print (\"Program Luas Persegi Panjang\")\n",
    "print('==============================')\n",
    "#pemanggilan 2 fungsi\n",
    "def luas_pp(panjang, lebar):\n",
    "    luas=(panjang*lebar)\n",
    "    print (\"Luas persegi panjang adalah :\" , luas, \"cm\");\n",
    "#pemangilan fungsi\n",
    "perkenalan()\n",
    "luas_pp(5,10)\n",
    "luas_pp(100,50)"
   ]
  },
  {
   "cell_type": "code",
   "execution_count": 48,
   "metadata": {},
   "outputs": [
    {
     "name": "stdout",
     "output_type": "stream",
     "text": [
      "==============================\n",
      "Program Luas Persegi Panjang\n",
      "==============================\n",
      "Masukan Panjang : 23\n",
      "Masukan Lebar : 12\n",
      "Luas Persegi : 276 cm\n",
      "==============================\n",
      "Program Volume Balok\n",
      "==============================\n",
      "Masukan Panjang : 23\n",
      "Masukan Lebar : 12\n",
      "Masukan Tinggi : 5\n",
      "Volume Balok : 1380 cm\n"
     ]
    }
   ],
   "source": [
    "#Soal 3\n",
    "def luas_pp ():\n",
    "    panjang=int(input(\"Masukan Panjang : \"))\n",
    "    lebar=int(input(\"Masukan Lebar : \"))\n",
    "    luas=(panjang*lebar)\n",
    "    return luas\n",
    "print('==============================')\n",
    "print (\"Program Luas Persegi Panjang\")\n",
    "print('==============================')\n",
    "def vol_balok ():\n",
    "    panjang=int(input(\"Masukan Panjang : \"))\n",
    "    lebar=int(input(\"Masukan Lebar : \"))\n",
    "    tinggi=int(input(\"Masukan Tinggi : \"))\n",
    "    vol=(panjang*lebar*tinggi)\n",
    "    return vol \n",
    "print(\"Luas Persegi :\", luas_pp(), \"cm\")\n",
    "print('==============================')\n",
    "print (\"Program Volume Balok\")\n",
    "print('==============================')\n",
    "print(\"Volume Balok :\", vol_balok(), \"cm\")"
   ]
  },
  {
   "cell_type": "code",
   "execution_count": 47,
   "metadata": {},
   "outputs": [
    {
     "name": "stdout",
     "output_type": "stream",
     "text": [
      "==========================================\n",
      "Program Operator Logika [Sama Dengan ==] \n",
      "==========================================\n",
      "Masukan Bilangan Pertama (A) : 12\n",
      "Masukan Bilangan Kedua (B) : 12\n",
      "Apakah nilai A sama dengan nilai B : True\n",
      "=========================================\n",
      "Program Operator Logika [Lebih Besar >] \n",
      "=========================================\n",
      "Masukan Bilangan Pertama (A) : 12\n",
      "Masukan Bilangan Kedua (B) : 23\n",
      "Apakah nilai A lebih besar dari nilai B : False\n"
     ]
    }
   ],
   "source": [
    "#Soal 4\n",
    "def sama_dengan ():\n",
    "    angka1=int(input(\"Masukan Bilangan Pertama (A) : \"))\n",
    "    angka2=int(input(\"Masukan Bilangan Kedua (B) : \")) \n",
    "    logika1=angka1==angka2\n",
    "    return logika1\n",
    "print('==========================================')\n",
    "print (\"Program Operator Logika [Sama Dengan ==] \")\n",
    "print('==========================================')\n",
    "def lebih_besar ():\n",
    "    angka1=int(input(\"Masukan Bilangan Pertama (A) : \"))\n",
    "    angka2=int(input(\"Masukan Bilangan Kedua (B) : \"))\n",
    "    logika2=angka1>angka2\n",
    "    return logika2\n",
    "print (\"Apakah nilai A sama dengan nilai B :\", sama_dengan())\n",
    "print('=========================================')\n",
    "print (\"Program Operator Logika [Lebih Besar >] \")\n",
    "print('=========================================')\n",
    "print (\"Apakah nilai A lebih besar dari nilai B :\", lebih_besar())"
   ]
  },
  {
   "cell_type": "code",
   "execution_count": null,
   "metadata": {},
   "outputs": [],
   "source": []
  }
 ],
 "metadata": {
  "kernelspec": {
   "display_name": "Python 3",
   "language": "python",
   "name": "python3"
  },
  "language_info": {
   "codemirror_mode": {
    "name": "ipython",
    "version": 3
   },
   "file_extension": ".py",
   "mimetype": "text/x-python",
   "name": "python",
   "nbconvert_exporter": "python",
   "pygments_lexer": "ipython3",
   "version": "3.8.3"
  }
 },
 "nbformat": 4,
 "nbformat_minor": 4
}
