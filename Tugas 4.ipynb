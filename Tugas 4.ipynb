{
 "cells": [
  {
   "cell_type": "code",
   "execution_count": null,
   "metadata": {},
   "outputs": [],
   "source": [
    "#Soal 1\n",
    "#Operator Penjumlahan\n",
    "print('==============================')\n",
    "print (\"Program Penjumlahan\")\n",
    "print('==============================')\n",
    "nilai1=int(input(\"Masukan Bilangan Pertama : \"))\n",
    "nilai2=int(input(\"Masukan Bilangan Kedua : \"))\n",
    "nilai3=nilai1+nilai2\n",
    "print('==============================')    \n",
    "print (\"Hasil :\",nilai1,\"+\", nilai2, \"=\", nilai3)"
   ]
  },
  {
   "cell_type": "code",
   "execution_count": null,
   "metadata": {},
   "outputs": [],
   "source": [
    "#Operator Pengurangan\n",
    "print('==============================')\n",
    "print (\"Program Pengurangan\")\n",
    "print('==============================')\n",
    "nilai1=int(input(\"Masukan Bilangan Pertama : \"))\n",
    "nilai2=int(input(\"Masukan Bilangan Kedua : \"))\n",
    "nilai3=nilai1-nilai2\n",
    "print('==============================')    \n",
    "print (\"Hasil :\",nilai1,\"-\", nilai2, \"=\", nilai3)"
   ]
  },
  {
   "cell_type": "code",
   "execution_count": null,
   "metadata": {},
   "outputs": [],
   "source": [
    "#Operator Perkalian\n",
    "print('==============================')\n",
    "print (\"Program Perkalian\")\n",
    "print('==============================')\n",
    "nilai1=int(input(\"Masukan Bilangan Pertama : \"))\n",
    "nilai2=int(input(\"Masukan Bilangan Kedua : \"))\n",
    "nilai3=nilai1*nilai2\n",
    "print('==============================')    \n",
    "print (\"Hasil :\",nilai1,\"*\", nilai2, \"=\", nilai3)"
   ]
  },
  {
   "cell_type": "code",
   "execution_count": null,
   "metadata": {},
   "outputs": [],
   "source": [
    "#Operator Pembagian\n",
    "print('==============================')\n",
    "print (\"Program Pembagian\")\n",
    "print('==============================')\n",
    "nilai1=int(input(\"Masukan Bilangan Pertama : \"))\n",
    "nilai2=int(input(\"Masukan Bilangan Kedua : \"))\n",
    "nilai3=nilai1/nilai2\n",
    "print('==============================')    \n",
    "print (\"Hasil :\",nilai1,\"*\", nilai2, \"=\", nilai3)"
   ]
  },
  {
   "cell_type": "code",
   "execution_count": null,
   "metadata": {},
   "outputs": [
    {
     "name": "stdout",
     "output_type": "stream",
     "text": [
      "==============================\n",
      "Program Sisa Bagi\n",
      "==============================\n"
     ]
    }
   ],
   "source": [
    "#Operator Sisa Bagi\n",
    "print('==============================')\n",
    "print (\"Program Sisa Bagi\")\n",
    "print('==============================')\n",
    "nilai1=int(input(\"Masukan Bilangan Pertama : \"))\n",
    "nilai2=int(input(\"Masukan Bilangan Kedua : \"))\n",
    "nilai3=nilai1%nilai2\n",
    "print('==============================')    \n",
    "print (\"Hasil :\",nilai1,\"%\", nilai2, \"=\", nilai3)"
   ]
  },
  {
   "cell_type": "code",
   "execution_count": 3,
   "metadata": {},
   "outputs": [
    {
     "name": "stdout",
     "output_type": "stream",
     "text": [
      "==============================\n",
      "Program Sisa Bagi\n",
      "==============================\n",
      "Masukan Bilangan Pertama : 2\n",
      "Masukan Bilangan Pangkat : 3\n",
      "==============================\n",
      "Hasil : 2 ** 3 = 8\n"
     ]
    }
   ],
   "source": [
    "#Operator Pemangkatan\n",
    "print('==============================')\n",
    "print (\"Program Pemangkatan\")\n",
    "print('==============================')\n",
    "nilai1=int(input(\"Masukan Bilangan Pertama : \"))\n",
    "nilai2=int(input(\"Masukan Bilangan Pangkat : \"))\n",
    "nilai3=nilai1**nilai2\n",
    "print('==============================')    \n",
    "print (\"Hasil :\",nilai1,\"**\", nilai2, \"=\", nilai3)"
   ]
  },
  {
   "cell_type": "code",
   "execution_count": 17,
   "metadata": {},
   "outputs": [
    {
     "name": "stdout",
     "output_type": "stream",
     "text": [
      "Hasil Penjumlahan = 23\n",
      "Hasil Pengurangan = 21\n",
      "Hasil Perkalian = 42\n",
      "Hasil Pembagian = 21.0\n",
      "Hasil Sisa Bagi = 1.0\n",
      "Hasil Perpangkatan = 1.0\n"
     ]
    }
   ],
   "source": [
    "#Soal 2\n",
    "#Operator Penugasan\n",
    "\n",
    "angka = 21\n",
    "\n",
    "#pemjumlahan\n",
    "angka += 2\n",
    "print(\"Hasil Penjumlahan =\",+angka) #21 + 2 = 23\n",
    "\n",
    "#pengurangan\n",
    "angka -= 2\n",
    "print(\"Hasil Pengurangan =\",+angka) #23 - 2 = 21\n",
    "\n",
    "#perkalian\n",
    "angka *= 2\n",
    "print(\"Hasil Perkalian =\",+angka) #21 * 2 = 42\n",
    "\n",
    "#pembagian\n",
    "angka /= 2\n",
    "print(\"Hasil Pembagian =\",+angka) #42 /2 = 21\n",
    "\n",
    "#sisa bagi\n",
    "angka %= 2\n",
    "print(\"Hasil Sisa Bagi =\",+angka) #21 % 2 = 1\n",
    "\n",
    "#perpangkatan\n",
    "angka **= 2 \n",
    "print(\"Hasil Perpangkatan =\",+angka) #1 ** 2 = 441\n",
    "\n"
   ]
  },
  {
   "cell_type": "code",
   "execution_count": null,
   "metadata": {},
   "outputs": [
    {
     "name": "stdout",
     "output_type": "stream",
     "text": [
      "==============================\n",
      "Program Pembanding\n",
      "==============================\n"
     ]
    }
   ],
   "source": [
    "#Soal 3\n",
    "#Operator Pembanding\n",
    "\n",
    "print('==============================')\n",
    "print (\"Program Pembanding\")\n",
    "print('==============================')\n",
    "\n",
    "A=int(input(\"Masukan Bilangan Pertama : \"))\n",
    "B=int(input(\"Masukan Bilangan Pangkat : \"))\n",
    "\n",
    "print('==============================')    \n",
    "print(\"A =\",A)\n",
    "print(\"B =\", B)\n",
    "print('==============================') \n",
    "\n",
    "#apakah A lebih besar dari B?\n",
    "C=A>B\n",
    "print (\"Apakah nilai A lebih besar dari nilai B :\", C)\n",
    "\n",
    "#apakah A lebih kecil dari B?\n",
    "C=A<B\n",
    "print (\"Apakah nilai A lebih kecil dari nilai B :\", C)\n",
    "\n",
    "#apakah A sma dengan B?\n",
    "C=A==B\n",
    "print (\"Apakah nilai A sama dengan nilai B :\", C)\n",
    "\n",
    "#apakah A tidak sama dengan B?\n",
    "C=A!=B\n",
    "print (\"Apakah nilai A tidak sama dengan nilai B :\", C)\n",
    "\n",
    "#apakah A lebih besar sama dengan B?\n",
    "C=A>=B\n",
    "print (\"Apakah nilai A lebih besar sama dengan nilai B :\", C)\n",
    "\n",
    "#apakah A lebih kecil sama dengan B?\n",
    "C=A<=B\n",
    "print (\"Apakah nilai A lebih kecil sama denga nilai B :\", C)"
   ]
  },
  {
   "cell_type": "code",
   "execution_count": 14,
   "metadata": {},
   "outputs": [
    {
     "name": "stdout",
     "output_type": "stream",
     "text": [
      "Diketahui :\n",
      "A= True\n",
      "B= False\n",
      "Hasil dari A and B : False\n",
      "Hasil dari A or B : True\n",
      "Hasil dari not A  : False\n",
      "Hasil dari not B  : True\n"
     ]
    }
   ],
   "source": [
    "#Soal 4\n",
    "#Operator Logika\n",
    "\n",
    "A=True\n",
    "B=False\n",
    "\n",
    "print (\"Diketahui :\")\n",
    "print (\"A=\", A)\n",
    "print (\"B=\", B)\n",
    "\n",
    "c=A and B\n",
    "print('Hasil dari A and B :', c)\n",
    "\n",
    "d=A or B\n",
    "print('Hasil dari A or B :', d)\n",
    "\n",
    "e=not A\n",
    "print('Hasil dari not A  :', e)\n",
    "\n",
    "f=not B\n",
    "print('Hasil dari not B  :', f)"
   ]
  },
  {
   "cell_type": "code",
   "execution_count": null,
   "metadata": {},
   "outputs": [],
   "source": [
    "#Soal 5\n",
    "print('==============================')\n",
    "print (\"POSYANDU MELATI 1 DAN 2\")\n",
    "print (\"KELURAHAN RAMBUTAN\")\n",
    "print (\"KOTA TEGAL\")\n",
    "print('==============================')\n",
    "name=input(\"Nama Bayi : \")\n",
    "berat=int (input(\"Berat Badan Bayi : \"))\n",
    "           \n",
    "ons= berat * 10\n",
    "bulan=berat + 3\n",
    "bulan2=ons + 30\n",
    "print (\"=====================================================\")\n",
    "print (\"Nama :\",name, '''\n",
    "'''\n",
    "\"Berat Badan [Kg] :\", berat, \"Kg\",''' \n",
    "'''       \n",
    "\"Berat Badan [Ons] :\", ons , \"Ons\")\n",
    "print (\"Berat bayi 1 bulan ke depan adalah :\", bulan, \"Kg\",\"/\", bulan2 ,\"Ons\")           "
   ]
  },
  {
   "cell_type": "code",
   "execution_count": null,
   "metadata": {},
   "outputs": [],
   "source": []
  }
 ],
 "metadata": {
  "kernelspec": {
   "display_name": "Python 3",
   "language": "python",
   "name": "python3"
  },
  "language_info": {
   "codemirror_mode": {
    "name": "ipython",
    "version": 3
   },
   "file_extension": ".py",
   "mimetype": "text/x-python",
   "name": "python",
   "nbconvert_exporter": "python",
   "pygments_lexer": "ipython3",
   "version": "3.8.3"
  }
 },
 "nbformat": 4,
 "nbformat_minor": 4
}
